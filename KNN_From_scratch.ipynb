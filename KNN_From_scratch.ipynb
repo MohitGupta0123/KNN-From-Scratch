{
  "nbformat": 4,
  "nbformat_minor": 0,
  "metadata": {
    "colab": {
      "provenance": []
    },
    "kernelspec": {
      "name": "python3",
      "display_name": "Python 3"
    },
    "language_info": {
      "name": "python"
    }
  },
  "cells": [
    {
      "cell_type": "code",
      "execution_count": 9,
      "metadata": {
        "colab": {
          "base_uri": "https://localhost:8080/"
        },
        "id": "rTnvhb3LdC-o",
        "outputId": "e5f69f80-def0-43c8-b0e8-f9c7b8af51ca"
      },
      "outputs": [
        {
          "output_type": "stream",
          "name": "stdout",
          "text": [
            "\n",
            "First 10 Input Features Sample: [[4, 9, 5, 7, 9, 1, 8, 4, 3, 9, 6, 3, 4, 6, 1, 9, 9, 8, 7, 6], [1, 7, 9, 8, 9, 4, 10, 6, 9, 1, 8, 3, 8, 5, 7, 6, 2, 2, 5, 9], [2, 7, 9, 4, 6, 10, 8, 8, 2, 3, 6, 6, 8, 6, 4, 8, 4, 10, 10, 3], [4, 2, 7, 6, 7, 3, 5, 2, 2, 3, 10, 8, 10, 10, 4, 3, 9, 3, 2, 1], [4, 8, 3, 2, 5, 6, 2, 6, 4, 10, 1, 2, 5, 9, 9, 9, 5, 2, 3, 2], [4, 6, 9, 10, 2, 2, 7, 4, 7, 9, 1, 7, 7, 7, 10, 3, 9, 6, 10, 9], [5, 2, 10, 3, 3, 10, 10, 10, 7, 1, 6, 10, 3, 3, 5, 2, 8, 2, 9, 10], [1, 8, 6, 1, 7, 2, 9, 5, 6, 9, 2, 1, 5, 1, 9, 4, 3, 8, 6, 1], [4, 3, 6, 4, 6, 4, 7, 9, 5, 10, 5, 2, 10, 1, 2, 2, 10, 10, 7, 8], [8, 1, 1, 9, 10, 8, 6, 2, 9, 3, 3, 2, 8, 3, 8, 8, 4, 3, 2, 2]]\n",
            "\n",
            "First 10 Target Values Sample: [1, 1, 0, 0, 0, 1, 1, 0, 1, 0]\n",
            "\n",
            "Test Point: [9, 6, 8, 7, 10, 10, 7, 7, 7, 4, 1, 7, 6, 3, 4, 3, 9, 6, 8, 6]\n",
            "\n",
            "Distances : [np.float64(16.73320053068151), np.float64(17.349351572897472), np.float64(14.89966442575134), np.float64(19.313207915827967), np.float64(19.672315572906), np.float64(16.217274740226856), np.float64(14.38749456993816), np.float64(18.76166303929372), np.float64(15.198684153570664), np.float64(16.55294535724685)]\n",
            "\n",
            "K_index : [4584 2459 8268 2340 5900 7113 1075 4977 1843 9172 4301]\n",
            "\n",
            "Closest_targets : [np.int64(1), np.int64(0), np.int64(1), np.int64(1), np.int64(0), np.int64(1), np.int64(0), np.int64(0), np.int64(0), np.int64(0), np.int64(1)]\n",
            "\n",
            "Majority : 0\n",
            "\n",
            "Predicted Label : 0\n"
          ]
        }
      ],
      "source": [
        "import random\n",
        "import numpy as np\n",
        "import pandas as pd\n",
        "from collections import Counter\n",
        "\n",
        "class KNN():\n",
        "    def __init__(self, x, y, k=3):\n",
        "        self.features = np.array(x)\n",
        "        self.target = np.array(y)\n",
        "        self.k = k\n",
        "\n",
        "    def distances(self, x, new):\n",
        "        return np.sqrt(np.sum(np.abs(x - new) ** 2))\n",
        "\n",
        "    def predict(self, new_pt):\n",
        "        distances = [self.distances(x, new_pt) for x in self.features]\n",
        "        print('\\nDistances :', distances[:10])  # Print only first 10 for readability\n",
        "        k_index = np.argsort(distances)[:self.k]\n",
        "        print('\\nK_index :', k_index)\n",
        "        closest_targets = [self.target[i] for i in k_index]\n",
        "        print('\\nClosest_targets :', closest_targets)\n",
        "        majority = Counter(closest_targets).most_common(1)[0][0]\n",
        "        print('\\nMajority :', majority)\n",
        "        return majority\n",
        "\n",
        "Features = 20\n",
        "data_rows = 10000\n",
        "\n",
        "# Generate 10000 rows for x (features) with 10 features per row\n",
        "x = [[random.randint(1, 10) for _ in range(Features)] for _ in range(data_rows)]\n",
        "print('\\nFirst 10 Input Features Sample:', x[:10])\n",
        "\n",
        "# Generate 10000 target values\n",
        "y = [random.randint(0, 1) for _ in range(data_rows)]\n",
        "print('\\nFirst 10 Target Values Sample:', y[:10])\n",
        "\n",
        "knn = KNN(x, y, k=11)\n",
        "\n",
        "# Ensure new test point has 10 elements\n",
        "new = [random.randint(1, 10) for _ in range(Features)]\n",
        "print('\\nTest Point:', new)\n",
        "\n",
        "result = knn.predict(new)\n",
        "print('\\nPredicted Label :', result)"
      ]
    },
    {
      "cell_type": "code",
      "source": [],
      "metadata": {
        "id": "F_O74Y3RdFuK"
      },
      "execution_count": null,
      "outputs": []
    }
  ]
}