{
  "nbformat": 4,
  "nbformat_minor": 0,
  "metadata": {
    "colab": {
      "provenance": []
    },
    "kernelspec": {
      "name": "python3",
      "display_name": "Python 3"
    },
    "language_info": {
      "name": "python"
    }
  },
  "cells": [
    {
      "cell_type": "code",
      "execution_count": 7,
      "metadata": {
        "colab": {
          "base_uri": "https://localhost:8080/"
        },
        "id": "rTnvhb3LdC-o",
        "outputId": "a3f7fc46-1da5-446a-fe1a-1594e2a763a0"
      },
      "outputs": [
        {
          "output_type": "stream",
          "name": "stdout",
          "text": [
            "First 10 Input Features Sample: [[2, 8, 2, 7, 1, 10, 6, 6, 9, 3, 10, 2, 3, 9, 10, 3, 2, 4, 4, 7], [3, 8, 8, 2, 4, 3, 1, 9, 1, 7, 7, 9, 2, 8, 9, 5, 5, 1, 2, 1], [4, 9, 6, 10, 2, 5, 3, 7, 8, 5, 1, 4, 6, 6, 3, 7, 2, 1, 7, 7], [4, 7, 9, 10, 3, 9, 1, 10, 7, 5, 4, 3, 4, 8, 10, 5, 4, 5, 7, 4], [7, 5, 5, 4, 9, 3, 7, 2, 2, 9, 10, 8, 8, 4, 3, 9, 8, 8, 7, 6], [7, 10, 4, 4, 9, 7, 7, 8, 1, 8, 4, 9, 6, 6, 10, 5, 7, 10, 7, 9], [8, 3, 6, 1, 8, 2, 5, 3, 3, 8, 8, 9, 5, 4, 6, 10, 2, 2, 3, 10], [3, 2, 8, 7, 2, 4, 9, 2, 7, 9, 6, 10, 4, 2, 1, 5, 7, 6, 6, 7], [7, 9, 9, 4, 8, 5, 5, 5, 10, 3, 7, 9, 6, 3, 10, 1, 10, 3, 8, 4], [5, 6, 5, 8, 1, 9, 8, 7, 3, 8, 10, 10, 7, 4, 3, 7, 9, 3, 3, 3]]\n",
            "First 10 Target Values Sample: [1, 0, 0, 0, 0, 0, 1, 0, 0, 0]\n",
            "Test Point: [7, 8, 8, 8, 8, 6, 8, 8, 6, 7, 6, 2, 3, 8, 10, 7, 2, 10, 6, 4]\n",
            "Distances : [np.float64(15.556349186104045), np.float64(17.97220075561143), np.float64(16.46207763315433), np.float64(12.12435565298214), np.float64(17.08800749063506), np.float64(13.638181696985855), np.float64(18.601075237738275), np.float64(19.261360284258224), np.float64(17.4928556845359), np.float64(18.841443681416774)]\n",
            "k_index : [4534 8104 5707 8876 3738  562 7413  741 5168 7720 7770]\n",
            "closest_targets : [np.int64(1), np.int64(0), np.int64(0), np.int64(0), np.int64(1), np.int64(0), np.int64(1), np.int64(0), np.int64(1), np.int64(0), np.int64(0)]\n",
            "majority : 0\n",
            "Predicted Label : 0\n"
          ]
        }
      ],
      "source": [
        "import random\n",
        "import numpy as np\n",
        "import pandas as pd\n",
        "from collections import Counter\n",
        "\n",
        "class KNN():\n",
        "    def __init__(self, x, y, k=3):\n",
        "        self.features = np.array(x)\n",
        "        self.target = np.array(y)\n",
        "        self.k = k\n",
        "\n",
        "    def distances(self, x, new):\n",
        "        return np.sqrt(np.sum(np.abs(x - new) ** 2))\n",
        "\n",
        "    def predict(self, new_pt):\n",
        "        distances = [self.distances(x, new_pt) for x in self.features]\n",
        "        print('Distances :', distances[:10])  # Print only first 10 for readability\n",
        "        k_index = np.argsort(distances)[:self.k]\n",
        "        print('k_index :', k_index)\n",
        "        closest_targets = [self.target[i] for i in k_index]\n",
        "        print('closest_targets :', closest_targets)\n",
        "        majority = Counter(closest_targets).most_common(1)[0][0]\n",
        "        print('majority :', majority)\n",
        "        return majority\n",
        "\n",
        "Features = 20\n",
        "data_rows = 10000\n",
        "\n",
        "# Generate 10000 rows for x (features) with 10 features per row\n",
        "x = [[random.randint(1, 10) for _ in range(Features)] for _ in range(data_rows)]\n",
        "print('First 10 Input Features Sample:', x[:10])\n",
        "\n",
        "# Generate 10000 target values\n",
        "y = [random.randint(0, 1) for _ in range(data_rows)]\n",
        "print('First 10 Target Values Sample:', y[:10])\n",
        "\n",
        "knn = KNN(x, y, k=11)\n",
        "\n",
        "# Ensure new test point has 10 elements\n",
        "new = [random.randint(1, 10) for _ in range(Features)]\n",
        "print('Test Point:', new)\n",
        "\n",
        "result = knn.predict(new)\n",
        "print('Predicted Label :', result)"
      ]
    },
    {
      "cell_type": "code",
      "source": [],
      "metadata": {
        "id": "F_O74Y3RdFuK"
      },
      "execution_count": null,
      "outputs": []
    }
  ]
}